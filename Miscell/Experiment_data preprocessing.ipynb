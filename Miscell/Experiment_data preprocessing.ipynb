{
 "cells": [
  {
   "cell_type": "code",
   "execution_count": 1,
   "metadata": {},
   "outputs": [],
   "source": [
    "import openpyxl\n",
    "import numpy as np\n",
    "\n",
    "raw_data = openpyxl.load_workbook('factorial design 2.xlsx')"
   ]
  },
  {
   "cell_type": "markdown",
   "metadata": {},
   "source": [
    "### Data Extraction"
   ]
  },
  {
   "cell_type": "code",
   "execution_count": 2,
   "metadata": {},
   "outputs": [],
   "source": [
    "sheet = raw_data['Sheet1']\n",
    "X = sheet['B3:C14']\n",
    "X_data = []\n",
    "for cell1, cell2 in X:\n",
    "    x = '{}->{}'.format(cell1.value,cell2.value)\n",
    "    X_data.append(x)\n",
    "X_data = np.array(X_data)\n",
    "for row in sheet['D2:V2']:\n",
    "    feature_name = np.array([i.value for i in row])"
   ]
  },
  {
   "cell_type": "code",
   "execution_count": 3,
   "metadata": {},
   "outputs": [],
   "source": [
    "feature = sheet['D3:V14']\n",
    "Array_list = []\n",
    "for row in feature:\n",
    "    row_array = [0 if element.value == None else element.value for element in row]\n",
    "    Array_list.append(row_array)\n",
    "Array = np.array(Array_list)\n",
    "\n",
    "subtraction_X = []\n",
    "for num in range(len(Array)):\n",
    "    row = Array_list[num]\n",
    "    deleted_array = Array_list.copy()\n",
    "    del deleted_array[num]\n",
    "    new = np.array(deleted_array) - row\n",
    "    new_X_data = list(X_data).copy()\n",
    "    del new_X_data[num]\n",
    "    x_name = list(X_data)[num]\n",
    "    subtraction_X.append(['{} - {}'.format(i,x_name) for i in new_X_data])\n",
    "    if num == 0:\n",
    "        Total = new\n",
    "    else:\n",
    "        Total = np.vstack((Total,new))\n",
    "\n",
    "X = np.array([j for i in subtraction_X for j in i])"
   ]
  },
  {
   "cell_type": "code",
   "execution_count": 4,
   "metadata": {},
   "outputs": [],
   "source": [
    "import pandas as pd \n",
    "pd = pd.DataFrame(Total, columns = list(feature_name), index = X)\n",
    "pd.to_csv(\"Calculated.csv\")"
   ]
  },
  {
   "cell_type": "code",
   "execution_count": null,
   "metadata": {},
   "outputs": [],
   "source": []
  }
 ],
 "metadata": {
  "kernelspec": {
   "display_name": "Python 3",
   "language": "python",
   "name": "python3"
  },
  "language_info": {
   "codemirror_mode": {
    "name": "ipython",
    "version": 3
   },
   "file_extension": ".py",
   "mimetype": "text/x-python",
   "name": "python",
   "nbconvert_exporter": "python",
   "pygments_lexer": "ipython3",
   "version": "3.6.5"
  }
 },
 "nbformat": 4,
 "nbformat_minor": 2
}
