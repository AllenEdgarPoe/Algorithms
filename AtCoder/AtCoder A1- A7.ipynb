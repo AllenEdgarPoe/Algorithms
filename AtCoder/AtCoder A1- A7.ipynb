{
 "cells": [
  {
   "cell_type": "markdown",
   "metadata": {},
   "source": [
    "#### Baek Joon #1735"
   ]
  },
  {
   "cell_type": "code",
   "execution_count": 65,
   "metadata": {},
   "outputs": [
    {
     "name": "stdout",
     "output_type": "stream",
     "text": [
      "nums: 12 131 141 5\n",
      "18531.0 655.0\n",
      "Wall time: 414 ms\n"
     ]
    }
   ],
   "source": [
    "%%time\n",
    "nums = input('nums: ')\n",
    "elements = [int(i) for i in nums.split(' ')]\n",
    "A1, A2 = elements[0], elements[2]\n",
    "B1, B2 = elements[1], elements[3]\n",
    "\n",
    "def gcd(num1, num2):\n",
    "    while num1 % num2 != 0:\n",
    "        num2 = num1%num2\n",
    "        gcd(num1, num2)\n",
    "    return num2\n",
    "\n",
    "if B1>B2:\n",
    "    GCD = gcd(B1,B2)\n",
    "else:\n",
    "    GCD = gcd(B2,B1)\n",
    "\n",
    "print('{} {}'.format(B2/GCD*A1 + B1/GCD*A2, (B1*B2)/GCD))\n"
   ]
  },
  {
   "cell_type": "markdown",
   "metadata": {},
   "source": [
    "#### A1 - Buttons"
   ]
  },
  {
   "cell_type": "code",
   "execution_count": 59,
   "metadata": {},
   "outputs": [
    {
     "name": "stdout",
     "output_type": "stream",
     "text": [
      "2 2\n",
      "4\n"
     ]
    }
   ],
   "source": [
    "nums = input('').split(' ')\n",
    "A = int(nums[0])\n",
    "B = int(nums[1])\n",
    "\n",
    "if A+B > max(A,B)+max(A,B)-1:\n",
    "    print(A+B)\n",
    "else:\n",
    "    print(max(A,B)+max(A,B)-1)"
   ]
  },
  {
   "cell_type": "markdown",
   "metadata": {},
   "source": [
    "#### A2 - Five Antennas"
   ]
  },
  {
   "cell_type": "code",
   "execution_count": 73,
   "metadata": {},
   "outputs": [
    {
     "name": "stdout",
     "output_type": "stream",
     "text": [
      "1 2 3 4 5 6\n",
      "Yay!\n"
     ]
    }
   ],
   "source": [
    "a,b,c,d,e,k = map(int, input().split(''))\n",
    "num_list = [a,b,c,d,e]\n",
    "if max(num_list) - min(num_list) > k:\n",
    "    print(':(')\n",
    "else:\n",
    "    print('Yay!')"
   ]
  },
  {
   "cell_type": "markdown",
   "metadata": {},
   "source": [
    "#### A3 - Double Helix"
   ]
  },
  {
   "cell_type": "code",
   "execution_count": 83,
   "metadata": {},
   "outputs": [
    {
     "name": "stdout",
     "output_type": "stream",
     "text": [
      "A\n",
      "T\n"
     ]
    }
   ],
   "source": [
    "b = input('')\n",
    "base = ['A','C','G','T']\n",
    "set1 = [base[0], base[-1]]\n",
    "set2 = [base[1], base[2]]\n",
    "if b in set1:\n",
    "    set1.remove(b)\n",
    "    print(set1[0])\n",
    "else:\n",
    "    set2.remove(b)\n",
    "    print(set2[0])"
   ]
  },
  {
   "cell_type": "markdown",
   "metadata": {},
   "source": [
    "#### A4 - White Cells"
   ]
  },
  {
   "cell_type": "code",
   "execution_count": 89,
   "metadata": {},
   "outputs": [
    {
     "name": "stdout",
     "output_type": "stream",
     "text": [
      "5 5 2 3\n",
      "6\n"
     ]
    }
   ],
   "source": [
    "H,W,h,w = map(int,input().split())\n",
    "print((H-h)*(W-w))"
   ]
  },
  {
   "cell_type": "markdown",
   "metadata": {},
   "source": [
    "#### A5 - Favorite Sound"
   ]
  },
  {
   "cell_type": "code",
   "execution_count": 92,
   "metadata": {},
   "outputs": [
    {
     "name": "stdout",
     "output_type": "stream",
     "text": [
      "3 9 5\n",
      "3\n"
     ]
    }
   ],
   "source": [
    "A,B,C = map(int,input().split())\n",
    "if B//A > C:\n",
    "    print(C)\n",
    "else:\n",
    "    print(B//A)"
   ]
  },
  {
   "cell_type": "markdown",
   "metadata": {},
   "source": [
    "#### A6 - Still TBD"
   ]
  },
  {
   "cell_type": "code",
   "execution_count": 98,
   "metadata": {},
   "outputs": [
    {
     "name": "stdout",
     "output_type": "stream",
     "text": [
      "2019/11/01\n",
      "TBD\n"
     ]
    }
   ],
   "source": [
    "import re\n",
    "\n",
    "S = ''.join(re.findall('\\d+',input('')))\n",
    "if int(S)<=20190430:\n",
    "    print('Heisei')\n",
    "else:\n",
    "    print('TBD')"
   ]
  },
  {
   "cell_type": "markdown",
   "metadata": {},
   "source": [
    "#### A7 - B+/-A"
   ]
  },
  {
   "cell_type": "code",
   "execution_count": 99,
   "metadata": {},
   "outputs": [
    {
     "name": "stdout",
     "output_type": "stream",
     "text": [
      "4 12\n",
      "16\n"
     ]
    }
   ],
   "source": [
    "A,B = map(int,input().split())\n",
    "if B%A == 0:\n",
    "    print(A+B)\n",
    "else:\n",
    "    print(B-A)"
   ]
  },
  {
   "cell_type": "code",
   "execution_count": null,
   "metadata": {},
   "outputs": [],
   "source": []
  }
 ],
 "metadata": {
  "kernelspec": {
   "display_name": "Python 3",
   "language": "python",
   "name": "python3"
  },
  "language_info": {
   "codemirror_mode": {
    "name": "ipython",
    "version": 3
   },
   "file_extension": ".py",
   "mimetype": "text/x-python",
   "name": "python",
   "nbconvert_exporter": "python",
   "pygments_lexer": "ipython3",
   "version": "3.6.5"
  }
 },
 "nbformat": 4,
 "nbformat_minor": 2
}
