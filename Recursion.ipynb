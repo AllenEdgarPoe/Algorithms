{
 "cells": [
  {
   "cell_type": "markdown",
   "metadata": {},
   "source": [
    "#### Factorial"
   ]
  },
  {
   "cell_type": "code",
   "execution_count": 4,
   "metadata": {},
   "outputs": [
    {
     "name": "stdout",
     "output_type": "stream",
     "text": [
      "5\n"
     ]
    },
    {
     "data": {
      "text/plain": [
       "120"
      ]
     },
     "execution_count": 4,
     "metadata": {},
     "output_type": "execute_result"
    }
   ],
   "source": [
    "num = int(input(''))\n",
    "def factorial(num):\n",
    "    if num<=0:\n",
    "        return 1\n",
    "    else:\n",
    "        return num*factorial(num-1)\n",
    "factorial(num)"
   ]
  },
  {
   "cell_type": "markdown",
   "metadata": {},
   "source": [
    "#### Double Power\n"
   ]
  },
  {
   "cell_type": "code",
   "execution_count": 3,
   "metadata": {},
   "outputs": [
    {
     "name": "stdout",
     "output_type": "stream",
     "text": [
      "2 5\n"
     ]
    },
    {
     "data": {
      "text/plain": [
       "32"
      ]
     },
     "execution_count": 3,
     "metadata": {},
     "output_type": "execute_result"
    }
   ],
   "source": [
    "num, power = map(int, input().split())\n",
    "def dp(num, power):\n",
    "    if power<=0:\n",
    "        return 1\n",
    "    else:\n",
    "        return num*dp(num, power-1)\n",
    "dp(num, power)"
   ]
  },
  {
   "cell_type": "markdown",
   "metadata": {},
   "source": [
    "#### Fibonacci Number"
   ]
  },
  {
   "cell_type": "code",
   "execution_count": 10,
   "metadata": {},
   "outputs": [
    {
     "name": "stdout",
     "output_type": "stream",
     "text": [
      "10\n"
     ]
    },
    {
     "data": {
      "text/plain": [
       "55"
      ]
     },
     "execution_count": 10,
     "metadata": {},
     "output_type": "execute_result"
    }
   ],
   "source": [
    "num = int(input())\n",
    "def fibonacci(num):\n",
    "    if num<=1:\n",
    "        return num\n",
    "    else:\n",
    "        return fibonacci(num-1)+fibonacci(num-2)\n",
    "fibonacci(num)"
   ]
  },
  {
   "cell_type": "markdown",
   "metadata": {},
   "source": [
    "#### GCD Euclid Method"
   ]
  },
  {
   "cell_type": "code",
   "execution_count": 34,
   "metadata": {},
   "outputs": [
    {
     "name": "stdout",
     "output_type": "stream",
     "text": [
      "14 7\n"
     ]
    },
    {
     "data": {
      "text/plain": [
       "7"
      ]
     },
     "execution_count": 34,
     "metadata": {},
     "output_type": "execute_result"
    }
   ],
   "source": [
    "num1, num2 = map(int,input().split())\n",
    "def gcd(m,n):\n",
    "    if m<n:\n",
    "        tmp = n; n = m; m = tmp\n",
    "    if m%n == 0:\n",
    "        return n\n",
    "    else:\n",
    "        return gcd(n, m%n)\n",
    "gcd(num1, num2)"
   ]
  },
  {
   "cell_type": "markdown",
   "metadata": {},
   "source": [
    "#### GCD Euclid Method 2"
   ]
  },
  {
   "cell_type": "code",
   "execution_count": 37,
   "metadata": {},
   "outputs": [
    {
     "name": "stdout",
     "output_type": "stream",
     "text": [
      "10 5\n"
     ]
    },
    {
     "data": {
      "text/plain": [
       "5"
      ]
     },
     "execution_count": 37,
     "metadata": {},
     "output_type": "execute_result"
    }
   ],
   "source": [
    "num1, num2 = map(int,input().split())\n",
    "def gcd2(m,n):\n",
    "    if n == 0:\n",
    "        return m\n",
    "    else:\n",
    "        return gcd2(n, m%n)\n",
    "gcd2(num1, num2)"
   ]
  },
  {
   "cell_type": "markdown",
   "metadata": {},
   "source": [
    "#### String Length"
   ]
  },
  {
   "cell_type": "code",
   "execution_count": 42,
   "metadata": {},
   "outputs": [
    {
     "name": "stdout",
     "output_type": "stream",
     "text": [
      "apple\n"
     ]
    },
    {
     "data": {
      "text/plain": [
       "5"
      ]
     },
     "execution_count": 42,
     "metadata": {},
     "output_type": "execute_result"
    }
   ],
   "source": [
    "string = input()\n",
    "def length(string):\n",
    "    if string == '':\n",
    "        return 0 \n",
    "    else:\n",
    "        return 1 + length(string[1:])\n",
    "    \n",
    "length(string)"
   ]
  },
  {
   "cell_type": "markdown",
   "metadata": {},
   "source": [
    "#### Reverse String"
   ]
  },
  {
   "cell_type": "code",
   "execution_count": 46,
   "metadata": {},
   "outputs": [
    {
     "name": "stdout",
     "output_type": "stream",
     "text": [
      "yppah\n"
     ]
    },
    {
     "data": {
      "text/plain": [
       "'happy'"
      ]
     },
     "execution_count": 46,
     "metadata": {},
     "output_type": "execute_result"
    }
   ],
   "source": [
    "string = input()\n",
    "def reverse_string(string):\n",
    "    if string == '':\n",
    "        return ''\n",
    "    else:\n",
    "        return reverse_string(string[1:]) + string[0]\n",
    "\n",
    "reverse_string(string)"
   ]
  },
  {
   "cell_type": "markdown",
   "metadata": {},
   "source": [
    "#### Print in Binary"
   ]
  },
  {
   "cell_type": "code",
   "execution_count": 60,
   "metadata": {},
   "outputs": [
    {
     "name": "stdout",
     "output_type": "stream",
     "text": [
      "12\n"
     ]
    },
    {
     "data": {
      "text/plain": [
       "'1100'"
      ]
     },
     "execution_count": 60,
     "metadata": {},
     "output_type": "execute_result"
    }
   ],
   "source": [
    "num = int(input())\n",
    "def binary(num):\n",
    "    b = ''\n",
    "    if num<2:\n",
    "        return int(num)\n",
    "    else:\n",
    "        b += str(binary(num/2))\n",
    "        return b+str(int(num%2))\n",
    "binary(num)"
   ]
  },
  {
   "cell_type": "markdown",
   "metadata": {},
   "source": [
    "#### Summation of array: data[0] +..+data[n-1]"
   ]
  },
  {
   "cell_type": "code",
   "execution_count": 73,
   "metadata": {},
   "outputs": [
    {
     "name": "stdout",
     "output_type": "stream",
     "text": [
      "3\n",
      "1 2 3 4 5\n"
     ]
    },
    {
     "data": {
      "text/plain": [
       "6"
      ]
     },
     "execution_count": 73,
     "metadata": {},
     "output_type": "execute_result"
    }
   ],
   "source": [
    "n = int(input())\n",
    "num_list = [int(num) for num in input().split()]\n",
    "def summation(n, num_list):\n",
    "    if n<= 0:\n",
    "        return 0\n",
    "    else:\n",
    "        return summation(n-1, num_list) + num_list[n-1]\n",
    "summation(n, num_list)"
   ]
  },
  {
   "cell_type": "markdown",
   "metadata": {},
   "source": [
    "#### Recursive Search"
   ]
  },
  {
   "cell_type": "code",
   "execution_count": 77,
   "metadata": {},
   "outputs": [
    {
     "name": "stdout",
     "output_type": "stream",
     "text": [
      "1 5\n",
      "a diamond\n"
     ]
    },
    {
     "data": {
      "text/plain": [
       "2"
      ]
     },
     "execution_count": 77,
     "metadata": {},
     "output_type": "execute_result"
    }
   ],
   "source": [
    "begin, end = map(int,input().split())\n",
    "target, string = map(str, input().split())\n",
    "def search(begin, end, target, string):\n",
    "    if begin == end:\n",
    "        return False\n",
    "    if string[begin] == target:\n",
    "        return begin\n",
    "    else:\n",
    "        return search(begin+1,end,target,string)\n",
    "search(begin,end,target,string)"
   ]
  },
  {
   "cell_type": "markdown",
   "metadata": {},
   "source": [
    "#### Find Max"
   ]
  },
  {
   "cell_type": "code",
   "execution_count": 78,
   "metadata": {},
   "outputs": [
    {
     "name": "stdout",
     "output_type": "stream",
     "text": [
      "1 3 2 5 4\n",
      "0 4\n"
     ]
    },
    {
     "data": {
      "text/plain": [
       "5"
      ]
     },
     "execution_count": 78,
     "metadata": {},
     "output_type": "execute_result"
    }
   ],
   "source": [
    "data = [int(x) for x in input().split()]\n",
    "begin, end = map(int, input().split())\n",
    "def findMax(data, begin, end):\n",
    "    if begin == end:\n",
    "        return data[begin]\n",
    "    else:\n",
    "        return max(data[begin], findMax(data,begin+1, end))\n",
    "findMax(data,begin,end)"
   ]
  },
  {
   "cell_type": "markdown",
   "metadata": {},
   "source": [
    "#### Find Max 2"
   ]
  },
  {
   "cell_type": "code",
   "execution_count": 79,
   "metadata": {},
   "outputs": [
    {
     "name": "stdout",
     "output_type": "stream",
     "text": [
      "2 5 3 2 1\n",
      "0 4\n"
     ]
    },
    {
     "data": {
      "text/plain": [
       "5"
      ]
     },
     "execution_count": 79,
     "metadata": {},
     "output_type": "execute_result"
    }
   ],
   "source": [
    "data = [int(x) for x in input().split()]\n",
    "begin, end = map(int, input().split())\n",
    "def findMax2(data,begin,end):\n",
    "    if begin == end:\n",
    "        return data[begin]\n",
    "    else:\n",
    "        middle = int((begin+end)/2)\n",
    "        max1 = findMax2(data, begin, middle)\n",
    "        max2 = findMax2(data, middle+1, end)\n",
    "        return max(max1,max2)\n",
    "findMax2(data, begin, end)"
   ]
  },
  {
   "cell_type": "markdown",
   "metadata": {},
   "source": [
    "#### Binary Search"
   ]
  },
  {
   "cell_type": "code",
   "execution_count": 86,
   "metadata": {},
   "outputs": [
    {
     "name": "stdout",
     "output_type": "stream",
     "text": [
      "1 4 5 2 3\n",
      "2 0 4\n"
     ]
    },
    {
     "data": {
      "text/plain": [
       "1"
      ]
     },
     "execution_count": 86,
     "metadata": {},
     "output_type": "execute_result"
    }
   ],
   "source": [
    "data = [int(x) for x in input().split()]\n",
    "target, begin, end = map(int, input().split())\n",
    "data.sort()\n",
    "def BS(data, target, begin, end):\n",
    "    if begin > end:\n",
    "        return False\n",
    "    else: \n",
    "        middle = int((begin+end)/2)\n",
    "        if data[middle] == target:\n",
    "            return middle\n",
    "        elif data[middle]>target:\n",
    "            return BS(data, target, begin, middle -1)\n",
    "        else:\n",
    "            return BS(data, target, middle+1, end)\n",
    "BS(data, target,begin,end)"
   ]
  },
  {
   "cell_type": "markdown",
   "metadata": {},
   "source": [
    "#### Maze"
   ]
  },
  {
   "cell_type": "code",
   "execution_count": null,
   "metadata": {},
   "outputs": [],
   "source": [
    "def maze(n,pos1,pos2):\n",
    "    if pos1, pos2 == n-1, n-1:\n",
    "        return True\n",
    "    else:\n",
    "        for (x,y) in [(pos1-1,pos2), (pos1,pos2+1), (pos1,pos2-1),(pos1+1,pos2)]:\n",
    "            max(n,x,y)"
   ]
  }
 ],
 "metadata": {
  "kernelspec": {
   "display_name": "Python 3",
   "language": "python",
   "name": "python3"
  },
  "language_info": {
   "codemirror_mode": {
    "name": "ipython",
    "version": 3
   },
   "file_extension": ".py",
   "mimetype": "text/x-python",
   "name": "python",
   "nbconvert_exporter": "python",
   "pygments_lexer": "ipython3",
   "version": "3.6.5"
  }
 },
 "nbformat": 4,
 "nbformat_minor": 2
}
