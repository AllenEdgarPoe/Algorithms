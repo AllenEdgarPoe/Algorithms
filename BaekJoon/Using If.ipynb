{
 "cells": [
  {
   "cell_type": "code",
   "execution_count": null,
   "metadata": {},
   "outputs": [],
   "source": [
    "grade = int(input())\n",
    "if 90<=grade<=100:\n",
    "    print('A')\n",
    "elif 80<=grade<=89:\n",
    "    print('B')\n",
    "elif 70<=grade<=79:\n",
    "    print('C')\n",
    "elif 60<=grade<=69:\n",
    "    print('D')\n",
    "else:\n",
    "    print('F')"
   ]
  },
  {
   "cell_type": "code",
   "execution_count": null,
   "metadata": {},
   "outputs": [],
   "source": [
    "A,B,C = map(int, input().split())\n",
    "a = sorted([A,B,C])\n",
    "print(a[1])"
   ]
  },
  {
   "cell_type": "code",
   "execution_count": 1,
   "metadata": {},
   "outputs": [
    {
     "name": "stdout",
     "output_type": "stream",
     "text": [
      "\n"
     ]
    },
    {
     "ename": "ValueError",
     "evalue": "not enough values to unpack (expected 2, got 0)",
     "output_type": "error",
     "traceback": [
      "\u001b[1;31m---------------------------------------------------------------------------\u001b[0m",
      "\u001b[1;31mValueError\u001b[0m                                Traceback (most recent call last)",
      "\u001b[1;32m<ipython-input-1-972187f95176>\u001b[0m in \u001b[0;36m<module>\u001b[1;34m()\u001b[0m\n\u001b[1;32m----> 1\u001b[1;33m \u001b[0mN\u001b[0m\u001b[1;33m,\u001b[0m\u001b[0mX\u001b[0m \u001b[1;33m=\u001b[0m \u001b[0mmap\u001b[0m\u001b[1;33m(\u001b[0m\u001b[0mint\u001b[0m\u001b[1;33m,\u001b[0m\u001b[0minput\u001b[0m\u001b[1;33m(\u001b[0m\u001b[1;33m)\u001b[0m\u001b[1;33m.\u001b[0m\u001b[0msplit\u001b[0m\u001b[1;33m(\u001b[0m\u001b[1;33m)\u001b[0m\u001b[1;33m)\u001b[0m\u001b[1;33m\u001b[0m\u001b[0m\n\u001b[0m\u001b[0;32m      2\u001b[0m \u001b[1;32mfor\u001b[0m \u001b[0mi\u001b[0m \u001b[1;32min\u001b[0m \u001b[0mmap\u001b[0m\u001b[1;33m(\u001b[0m\u001b[0mint\u001b[0m\u001b[1;33m,\u001b[0m\u001b[0minput\u001b[0m\u001b[1;33m(\u001b[0m\u001b[1;33m)\u001b[0m\u001b[1;33m.\u001b[0m\u001b[0msplit\u001b[0m\u001b[1;33m(\u001b[0m\u001b[1;33m)\u001b[0m\u001b[1;33m)\u001b[0m\u001b[1;33m:\u001b[0m\u001b[1;33m\u001b[0m\u001b[0m\n\u001b[0;32m      3\u001b[0m     \u001b[1;32mif\u001b[0m \u001b[0mi\u001b[0m\u001b[1;33m<\u001b[0m\u001b[0mX\u001b[0m\u001b[1;33m:\u001b[0m\u001b[1;33m\u001b[0m\u001b[0m\n\u001b[0;32m      4\u001b[0m         \u001b[0mprint\u001b[0m\u001b[1;33m(\u001b[0m\u001b[0mi\u001b[0m\u001b[1;33m)\u001b[0m\u001b[1;33m\u001b[0m\u001b[0m\n",
      "\u001b[1;31mValueError\u001b[0m: not enough values to unpack (expected 2, got 0)"
     ]
    }
   ],
   "source": [
    "N,X = map(int,input().split())\n",
    "for i in map(int,input().split()):\n",
    "    if i<X:\n",
    "        print(i)"
   ]
  },
  {
   "cell_type": "code",
   "execution_count": null,
   "metadata": {},
   "outputs": [],
   "source": [
    "N = int(input())\n",
    "grade = [int(i) for i in input().split()]\n",
    "max_grade = max(grade)\n",
    "new_grade = [(j/max_grade)*100 for j in grade]\n",
    "print('{:.2f}'.format(sum(new_grade)/len(new_grade)))"
   ]
  },
  {
   "cell_type": "code",
   "execution_count": null,
   "metadata": {},
   "outputs": [],
   "source": [
    "for _ in range(int(input())):\n",
    "    grade_list = list(map(int,input().split()))\n",
    "    average = sum(grade_list[1:])/grade_list[0]\n",
    "    count = 0\n",
    "    for grade in grade_list[1:]:\n",
    "        if grade>average:\n",
    "            count+=1\n",
    "    print(str('%.3f' % round(count / grade_list[0] * 100, 3)) + '%')"
   ]
  },
  {
   "cell_type": "code",
   "execution_count": null,
   "metadata": {},
   "outputs": [],
   "source": [
    "original = input()\n",
    "if int(original)<10:\n",
    "    new = original[-1] + original[-1]\n",
    "else:\n",
    "    new = original[-1] + str(sum([int(i) for i in original]))[-1]\n",
    "count = 1\n",
    "\n",
    "while new != original:\n",
    "    if int(new)<10:\n",
    "        new = new[-1] + new[-1]\n",
    "    else:\n",
    "        new = new[-1] + str(sum([int(i) for i in new]))[-1]\n",
    "    count+=1\n",
    "print(count)"
   ]
  },
  {
   "cell_type": "code",
   "execution_count": null,
   "metadata": {},
   "outputs": [],
   "source": [
    "first_number = int(input())\n",
    "second_number = 0\n",
    "result_number = 0\n",
    "roof_counter = 1\n",
    "\n",
    "if not (0 <= first_number <= 99):\n",
    "    exit()\n",
    "\n",
    "number_checker = first_number\n",
    "\n",
    "while True:\n",
    "    second_number = first_number % 10\n",
    "    first_number = int(first_number / 10)\n",
    "    result_number = first_number + second_number\n",
    "    first_number = (second_number * 10) + result_number % 10\n",
    "\n",
    "    if (number_checker == first_number):\n",
    "        break;\n",
    "    else:\n",
    "        roof_counter += 1\n",
    "\n",
    "print(roof_counter)"
   ]
  },
  {
   "cell_type": "code",
   "execution_count": null,
   "metadata": {},
   "outputs": [],
   "source": []
  }
 ],
 "metadata": {
  "kernelspec": {
   "display_name": "Python 3",
   "language": "python",
   "name": "python3"
  },
  "language_info": {
   "codemirror_mode": {
    "name": "ipython",
    "version": 3
   },
   "file_extension": ".py",
   "mimetype": "text/x-python",
   "name": "python",
   "nbconvert_exporter": "python",
   "pygments_lexer": "ipython3",
   "version": "3.6.5"
  }
 },
 "nbformat": 4,
 "nbformat_minor": 2
}
