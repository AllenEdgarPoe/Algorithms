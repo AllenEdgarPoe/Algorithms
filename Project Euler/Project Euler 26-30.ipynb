{
 "cells": [
  {
   "cell_type": "markdown",
   "metadata": {},
   "source": [
    "#### Problem 26\n"
   ]
  },
  {
   "cell_type": "code",
   "execution_count": null,
   "metadata": {},
   "outputs": [],
   "source": [
    "%%time\n",
    "def residue(num):\n",
    "    residue_list = []\n",
    "    residue = 10%num\n",
    "    residue_list.append(residue)\n",
    "    while True:\n",
    "        residue = residue_list[-1]*10 % num\n",
    "        if residue not in residue_list:\n",
    "            residue_list.append(residue)\n",
    "        else:\n",
    "            break\n",
    "    return(len(residue_list))\n",
    "        \n",
    "residue_list = [residue(d) for d in range(1,1001)]\n",
    "print(residue_list.index(max(residue_list))+1)"
   ]
  },
  {
   "cell_type": "markdown",
   "metadata": {},
   "source": [
    "#### Problem 27"
   ]
  },
  {
   "cell_type": "code",
   "execution_count": null,
   "metadata": {},
   "outputs": [],
   "source": [
    "%%time\n",
    "# def Prime(num):\n",
    "#     prime_list = list(range(2,num+1))\n",
    "#     for i in range(2,num+1):\n",
    "#         if i in prime_list:\n",
    "#             mul_list = [i*j for j in range(2,num//i+1)]\n",
    "#             for j in mul_list:\n",
    "#                 if j in prime_list:\n",
    "#                     prime_list.remove(j)\n",
    "#     return prime_list\n",
    "\n",
    "def is_prime(num):\n",
    "    if num == 1 or int(num**0.5) == num**0.5:\n",
    "            return False\n",
    "    else:\n",
    "        for i in range(2, int(num**0.5)+1):\n",
    "            if num%i == 0 and i!= num:\n",
    "                return False\n",
    "    return True\n",
    "\n",
    "answer = [0,0,0]\n",
    "for a in range(-1000,1000):\n",
    "    for b in range(-1000,1000):\n",
    "        n = 0\n",
    "        while True:\n",
    "            result = n**2 + a*n + b\n",
    "            if result>0 and is_prime(result):\n",
    "                n+=1\n",
    "            else:\n",
    "                break\n",
    "        if answer[2]<n:\n",
    "            answer = [a,b,n]\n",
    "print(answer[0]*answer[1])"
   ]
  },
  {
   "cell_type": "markdown",
   "metadata": {},
   "source": [
    "#### Problem 28"
   ]
  },
  {
   "cell_type": "code",
   "execution_count": null,
   "metadata": {},
   "outputs": [],
   "source": [
    "%%time\n",
    "matrix_row = 1001\n",
    "str_add = [i*2 for i in range(1, matrix_row//2+1)]\n",
    "int_add = []\n",
    "for num in str_add:\n",
    "    for i in range(0,4):\n",
    "        int_add.append(num)\n",
    "num = 1\n",
    "diagonal = [1]\n",
    "for addition in int_add:\n",
    "    num+=addition\n",
    "    diagonal.append(num)\n",
    "sum(diagonal)"
   ]
  },
  {
   "cell_type": "markdown",
   "metadata": {},
   "source": [
    "#### Problem 29"
   ]
  },
  {
   "cell_type": "code",
   "execution_count": null,
   "metadata": {},
   "outputs": [],
   "source": [
    "%%time\n",
    "power_list = set()\n",
    "for a in range(2,101):\n",
    "    for b in range(2,101):\n",
    "        power_list.add(a**b)\n",
    "len(power_list)"
   ]
  },
  {
   "cell_type": "markdown",
   "metadata": {},
   "source": [
    "#### Problem 30"
   ]
  },
  {
   "cell_type": "code",
   "execution_count": 4,
   "metadata": {},
   "outputs": [
    {
     "name": "stdout",
     "output_type": "stream",
     "text": [
      "443839\n",
      "Wall time: 1.14 s\n"
     ]
    }
   ],
   "source": [
    "%%time\n",
    "power_list = set()\n",
    "num = 2\n",
    "while True:\n",
    "    num_list = [int(i) for i in str(num)]\n",
    "    power_num = [j**5 for j in num_list]\n",
    "    if num> 9**5*len(num_list):\n",
    "        break\n",
    "    if sum(power_num) == num:\n",
    "        power_list.add(num)\n",
    "    num+=1\n",
    "    \n",
    "print(sum(list(power_list)))"
   ]
  },
  {
   "cell_type": "code",
   "execution_count": null,
   "metadata": {},
   "outputs": [],
   "source": []
  }
 ],
 "metadata": {
  "kernelspec": {
   "display_name": "Python 3",
   "language": "python",
   "name": "python3"
  },
  "language_info": {
   "codemirror_mode": {
    "name": "ipython",
    "version": 3
   },
   "file_extension": ".py",
   "mimetype": "text/x-python",
   "name": "python",
   "nbconvert_exporter": "python",
   "pygments_lexer": "ipython3",
   "version": "3.6.5"
  }
 },
 "nbformat": 4,
 "nbformat_minor": 2
}
