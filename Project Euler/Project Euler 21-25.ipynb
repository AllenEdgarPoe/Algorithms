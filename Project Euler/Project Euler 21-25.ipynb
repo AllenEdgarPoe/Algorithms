{
 "cells": [
  {
   "cell_type": "markdown",
   "metadata": {},
   "source": [
    "#### Problem 21"
   ]
  },
  {
   "cell_type": "code",
   "execution_count": 56,
   "metadata": {},
   "outputs": [
    {
     "name": "stdout",
     "output_type": "stream",
     "text": [
      "31626.0\n",
      "Wall time: 103 ms\n"
     ]
    }
   ],
   "source": [
    "%%time\n",
    "def d(num):\n",
    "    factors_list = set()\n",
    "    for i in range(1,int(num**0.5)+1):\n",
    "        if num % i ==0 :\n",
    "            factors_list.add(i)\n",
    "            factors_list.add(num/i)\n",
    "    factors_list = sorted(list(factors_list))\n",
    "    factors_list.pop(-1)\n",
    "    return sum(factors_list)\n",
    "\n",
    "amicable = set()\n",
    "for i in range(2,10001):\n",
    "    if d(d(i)) == i and d(i) != d(d(i)):\n",
    "        amicable.add(i)\n",
    "        amicable.add(d(i))\n",
    "print(sum(list(amicable)))"
   ]
  },
  {
   "cell_type": "markdown",
   "metadata": {},
   "source": [
    "#### Problem 22"
   ]
  },
  {
   "cell_type": "code",
   "execution_count": 58,
   "metadata": {},
   "outputs": [
    {
     "name": "stdout",
     "output_type": "stream",
     "text": [
      "871198282\n",
      "Wall time: 190 ms\n"
     ]
    }
   ],
   "source": [
    "%%time\n",
    "import re\n",
    "with open('names.txt') as name:\n",
    "    raw_name = name.read().split(',')\n",
    "\n",
    "sorted_names = sorted(raw_name)\n",
    "alphabet = [alph.upper() for alph in ['a','b','c','d','e','f','g','h','i','j','k','l',\n",
    "               'm','n','o','p','q','r','s','t','u','v','w','x','y','z']]\n",
    "number = [i for i in range(1,27)]\n",
    "alphabet_number = dict()\n",
    "for i,j in zip(alphabet,number):\n",
    "    alphabet_number[i] = j\n",
    "\n",
    "new = []\n",
    "for name in sorted_names:\n",
    "    name_number = sum([alphabet_number[alph] for alph in re.sub('\"','',name)])\n",
    "    new.append(name_number * (sorted_names.index(name)+1))\n",
    "\n",
    "print(sum(new))"
   ]
  },
  {
   "cell_type": "markdown",
   "metadata": {},
   "source": [
    "#### Problem 23"
   ]
  },
  {
   "cell_type": "code",
   "execution_count": 59,
   "metadata": {},
   "outputs": [
    {
     "name": "stdout",
     "output_type": "stream",
     "text": [
      "4179871\n",
      "Wall time: 15.7 s\n"
     ]
    }
   ],
   "source": [
    "%%time\n",
    "def factors(num):\n",
    "    factors = set()\n",
    "    for i in range(1,int(num**0.5)+1):\n",
    "        if num % i == 0:\n",
    "            factors.add(i)\n",
    "            factors.add(num/i)\n",
    "    sorted_factors = sorted(list(factors))\n",
    "    sorted_factors.pop(-1)\n",
    "    return sum(sorted_factors)\n",
    "exceed = []\n",
    "perfect = []\n",
    "for i in range(2, 28123):\n",
    "    if factors(i)>i:\n",
    "        exceed.append(i)\n",
    "    elif factors(i) == i:\n",
    "        perfect.append(i)\n",
    "exceed = sorted(exceed)\n",
    "exceed_comb = set()\n",
    "for i in exceed:\n",
    "    for j in exceed:\n",
    "        if i+j<28123:\n",
    "            exceed_comb.add(i+j)\n",
    "exceed_not = []\n",
    "for i in range(2,28123):\n",
    "    if i not in list(exceed_comb):\n",
    "        exceed_not.append(i)\n",
    "print(sum(exceed_not)+1)       "
   ]
  },
  {
   "cell_type": "markdown",
   "metadata": {},
   "source": [
    "#### Problem 24"
   ]
  },
  {
   "cell_type": "code",
   "execution_count": 60,
   "metadata": {},
   "outputs": [
    {
     "name": "stdout",
     "output_type": "stream",
     "text": [
      "2783915460\n",
      "Wall time: 0 ns\n"
     ]
    }
   ],
   "source": [
    "%%time\n",
    "import numpy as np\n",
    "\n",
    "number_list = [i for i in range(10)]\n",
    "factorial = []\n",
    "for i in range(10):\n",
    "    factorial.append(int(np.prod([j for j in range(1,i+1)])))\n",
    "\n",
    "index = 999999\n",
    "factorial.reverse()\n",
    "cumulated = ''\n",
    "for fact in factorial:\n",
    "    cumulated += str(number_list[index // fact])\n",
    "    number_list.remove(number_list[index // fact])\n",
    "    index = index%fact\n",
    "print(cumulated)"
   ]
  },
  {
   "cell_type": "markdown",
   "metadata": {},
   "source": [
    "#### Problem 25"
   ]
  },
  {
   "cell_type": "code",
   "execution_count": 61,
   "metadata": {
    "scrolled": true
   },
   "outputs": [
    {
     "name": "stdout",
     "output_type": "stream",
     "text": [
      "4782\n",
      "Wall time: 886 ms\n"
     ]
    }
   ],
   "source": [
    "%%time\n",
    "def fibonacci(num):\n",
    "    f1 = 1\n",
    "    f2 = 1\n",
    "    if num in [1,2]:\n",
    "        return 1\n",
    "    else:\n",
    "        for _ in range(1,num-1):\n",
    "            f3 = f1+f2\n",
    "            f1 = f2\n",
    "            f2 = f3 \n",
    "        return f2\n",
    "num = 1\n",
    "while True:\n",
    "    if len(str(fibonacci(num))) == 1000:\n",
    "        break\n",
    "    num+=1\n",
    "print(num)"
   ]
  }
 ],
 "metadata": {
  "kernelspec": {
   "display_name": "Python 3",
   "language": "python",
   "name": "python3"
  },
  "language_info": {
   "codemirror_mode": {
    "name": "ipython",
    "version": 3
   },
   "file_extension": ".py",
   "mimetype": "text/x-python",
   "name": "python",
   "nbconvert_exporter": "python",
   "pygments_lexer": "ipython3",
   "version": "3.6.5"
  }
 },
 "nbformat": 4,
 "nbformat_minor": 2
}
