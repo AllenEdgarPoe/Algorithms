{
 "cells": [
  {
   "cell_type": "markdown",
   "metadata": {},
   "source": [
    "#### Problem 31"
   ]
  },
  {
   "cell_type": "code",
   "execution_count": null,
   "metadata": {},
   "outputs": [],
   "source": [
    "w = [1 for i in range(201)]\n",
    "money = [2,5,10,20,50,100,200]\n",
    "for c in money:\n",
    "    for i in range(c, 201):\n",
    "        w[i] += w[i-c]\n",
    "print(w[-1])"
   ]
  },
  {
   "cell_type": "markdown",
   "metadata": {},
   "source": [
    "#### Problem 32"
   ]
  },
  {
   "cell_type": "code",
   "execution_count": null,
   "metadata": {},
   "outputs": [],
   "source": [
    "import numpy as np\n",
    "num_list = set()\n",
    "for a in range(1,9):\n",
    "    for b in range(1,9):\n",
    "        c = 9 - (a+b)\n",
    "        if c == a+b-1:\n",
    "            num_list.add((a,b,c))\n",
    "            \n",
    "# for k in num_list:\n",
    "#     for a in range(10**(k[0]-1),10**()"
   ]
  },
  {
   "cell_type": "code",
   "execution_count": null,
   "metadata": {},
   "outputs": [],
   "source": [
    "list(num_list)"
   ]
  },
  {
   "cell_type": "code",
   "execution_count": null,
   "metadata": {},
   "outputs": [],
   "source": [
    "nums = list(range(1,10))\n",
    "def test(nums):\n",
    "    a = []\n",
    "    if len(nums) == 0:\n",
    "        return None\n",
    "    else:\n",
    "        for num in nums:\n",
    "            a.append(test(nums.remove(num)))\n",
    "        return a\n",
    "                    \n",
    "                    "
   ]
  },
  {
   "cell_type": "code",
   "execution_count": 12,
   "metadata": {},
   "outputs": [],
   "source": [
    "A,B,C = map(int,input().split())\n",
    "def divide(a,b,c):\n",
    "    if b == 0:\n",
    "        return 1\n",
    "    else:\n",
    "        if b%2 == 0:\n",
    "            n =divide(a,b/2,c)%c\n",
    "            return (n*n)%c\n",
    "        else:\n",
    "            n = divide(a,(b-1)/2,c)%c\n",
    "            return (n*n*a%c)%c\n",
    "print(divide(A,B,C))"
   ]
  },
  {
   "cell_type": "code",
   "execution_count": null,
   "metadata": {},
   "outputs": [],
   "source": []
  }
 ],
 "metadata": {
  "kernelspec": {
   "display_name": "Python 3",
   "language": "python",
   "name": "python3"
  },
  "language_info": {
   "codemirror_mode": {
    "name": "ipython",
    "version": 3
   },
   "file_extension": ".py",
   "mimetype": "text/x-python",
   "name": "python",
   "nbconvert_exporter": "python",
   "pygments_lexer": "ipython3",
   "version": "3.6.5"
  }
 },
 "nbformat": 4,
 "nbformat_minor": 2
}
